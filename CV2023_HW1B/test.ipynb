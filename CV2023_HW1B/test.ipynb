{
 "cells": [
  {
   "cell_type": "code",
   "execution_count": 1,
   "metadata": {},
   "outputs": [
    {
     "name": "stdout",
     "output_type": "stream",
     "text": [
      "Epoch 0: train loss = 1.2907, test loss = 0.3768, accuracy = 88.32%\n",
      "Epoch 1: train loss = 0.3218, test loss = 0.2555, accuracy = 92.24%\n",
      "Epoch 2: train loss = 0.2154, test loss = 0.1561, accuracy = 95.36%\n",
      "Epoch 3: train loss = 0.1613, test loss = 0.1183, accuracy = 96.57%\n",
      "Epoch 4: train loss = 0.1292, test loss = 0.0986, accuracy = 96.88%\n",
      "Epoch 5: train loss = 0.1100, test loss = 0.0848, accuracy = 97.44%\n",
      "Epoch 6: train loss = 0.0974, test loss = 0.0804, accuracy = 97.63%\n",
      "Epoch 7: train loss = 0.0873, test loss = 0.0695, accuracy = 97.80%\n",
      "Epoch 8: train loss = 0.0804, test loss = 0.0646, accuracy = 97.91%\n",
      "Epoch 9: train loss = 0.0745, test loss = 0.0633, accuracy = 98.04%\n"
     ]
    }
   ],
   "source": [
    "import torch\n",
    "import torch.nn as nn\n",
    "import torch.optim as optim\n",
    "from torch.utils.data import DataLoader\n",
    "from torchvision.datasets import MNIST\n",
    "from torchvision.transforms import ToTensor\n",
    "\n",
    "# Set the device to the GPU if available, otherwise use the CPU\n",
    "device = torch.device('cuda' if torch.cuda.is_available() else 'cpu')\n",
    "\n",
    "# Define the neural network architecture\n",
    "class Net(nn.Module):\n",
    "    def __init__(self):\n",
    "        super(Net, self).__init__()\n",
    "        self.conv1 = nn.Conv2d(1, 10, kernel_size=5)\n",
    "        self.conv2 = nn.Conv2d(10, 20, kernel_size=5)\n",
    "        self.fc1 = nn.Linear(320, 50)\n",
    "        self.fc2 = nn.Linear(50, 10)\n",
    "\n",
    "    def forward(self, x):\n",
    "        x = nn.functional.relu(nn.functional.max_pool2d(self.conv1(x), 2))\n",
    "        x = nn.functional.relu(nn.functional.max_pool2d(self.conv2(x), 2))\n",
    "        x = x.view(-1, 320)\n",
    "        x = nn.functional.relu(self.fc1(x))\n",
    "        x = self.fc2(x)\n",
    "        return nn.functional.log_softmax(x, dim=1)\n",
    "\n",
    "# Load the MNIST dataset\n",
    "train_dataset = MNIST(root='data/', train=True, transform=ToTensor(), download=True)\n",
    "test_dataset = MNIST(root='data/', train=False, transform=ToTensor(), download=True)\n",
    "\n",
    "# Set the batch size and the number of epochs\n",
    "batch_size = 128\n",
    "num_epochs = 10\n",
    "\n",
    "# Create data loaders for the training and test datasets\n",
    "train_loader = DataLoader(dataset=train_dataset, batch_size=batch_size, shuffle=True)\n",
    "test_loader = DataLoader(dataset=test_dataset, batch_size=batch_size, shuffle=True)\n",
    "\n",
    "# Initialize the network and move it to the GPU\n",
    "net = Net().to(device)\n",
    "\n",
    "# Define the loss function and the optimizer\n",
    "criterion = nn.CrossEntropyLoss()\n",
    "optimizer = optim.SGD(net.parameters(), lr=0.01, momentum=0.5)\n",
    "\n",
    "# Train the network\n",
    "for epoch in range(num_epochs):\n",
    "    net.train()\n",
    "    train_loss = 0.0\n",
    "    for data, target in train_loader:\n",
    "        data, target = data.to(device), target.to(device)\n",
    "        optimizer.zero_grad()\n",
    "        output = net(data)\n",
    "        loss = criterion(output, target)\n",
    "        loss.backward()\n",
    "        optimizer.step()\n",
    "        train_loss += loss.item() * data.size(0)\n",
    "    train_loss /= len(train_loader.dataset)\n",
    "\n",
    "    net.eval()\n",
    "    test_loss = 0.0\n",
    "    correct = 0\n",
    "    with torch.no_grad():\n",
    "        for data, target in test_loader:\n",
    "            data, target = data.to(device), target.to(device)\n",
    "            output = net(data)\n",
    "            test_loss += criterion(output, target).item() * data.size(0)\n",
    "            pred = output.argmax(dim=1, keepdim=True)\n",
    "            correct += pred.eq(target.view_as(pred)).sum().item()\n",
    "    test_loss /= len(test_loader.dataset)\n",
    "    accuracy = 100.0 * correct / len(test_loader.dataset)\n",
    "    print(f'Epoch {epoch}: train loss = {train_loss:.4f}, test loss = {test_loss:.4f}, accuracy = {accuracy:.2f}%')\n"
   ]
  }
 ],
 "metadata": {
  "kernelspec": {
   "display_name": "py39tfGpu",
   "language": "python",
   "name": "python3"
  },
  "language_info": {
   "codemirror_mode": {
    "name": "ipython",
    "version": 3
   },
   "file_extension": ".py",
   "mimetype": "text/x-python",
   "name": "python",
   "nbconvert_exporter": "python",
   "pygments_lexer": "ipython3",
   "version": "3.9.16"
  },
  "orig_nbformat": 4,
  "vscode": {
   "interpreter": {
    "hash": "16e4934577c50c8161e01f4f61d5188379a3e6a2e2dd8d3303b826fd10e687b1"
   }
  }
 },
 "nbformat": 4,
 "nbformat_minor": 2
}
